{
 "cells": [
  {
   "cell_type": "code",
   "execution_count": 8,
   "id": "c218ca5b-77a9-4a9d-8cb3-02e0f6c2e859",
   "metadata": {},
   "outputs": [
    {
     "name": "stdin",
     "output_type": "stream",
     "text": [
      "Enter Your Percentage :-  85\n"
     ]
    },
    {
     "name": "stdout",
     "output_type": "stream",
     "text": [
      "Grade B\n"
     ]
    }
   ],
   "source": [
    "# Assignment --  2\n",
    "# 1. Write a program to accept percentage from the user and display the grade according to the following Criteria.\n",
    "\n",
    "marks = int(input(\"Enter Your Percentage :- \"))\n",
    "if marks > 90 :\n",
    "    print(\"Grade - A\")\n",
    "elif marks > 80 and marks <= 90 :\n",
    "    print(\"Grade - B\")\n",
    "elif marks >= 60 and marks <= 80 :\n",
    "    print(\"Grade - C\")\n",
    "else :\n",
    "    print(\"Grade - D\")\n"
   ]
  },
  {
   "cell_type": "code",
   "execution_count": 13,
   "id": "99d3b5de-533a-452f-bc59-a19297ad0164",
   "metadata": {},
   "outputs": [
    {
     "name": "stdin",
     "output_type": "stream",
     "text": [
      "Enter Your Bike Cost Price -  120000\n"
     ]
    },
    {
     "name": "stdout",
     "output_type": "stream",
     "text": [
      "You have to pay TAX - 15%\n"
     ]
    }
   ],
   "source": [
    "#2. Write a program to accept the cost price of a bike and display the road tax to be paid according to the following criteria.\n",
    "\n",
    "bike_cost = int(input(\"Enter Your Bike Cost Price - \"))\n",
    "\n",
    "if bike_cost > 100000 :\n",
    "    print(\"You have to pay TAX - 15%\")\n",
    "elif bike_cost > 50000 and bike_cost <=100000:\n",
    "    print(\"You have to pay TAX - 10%\")\n",
    "elif bike_cost <=50000:\n",
    "    print(\"You have to pay TAX - 5%\")\n",
    "\n",
    "\n"
   ]
  },
  {
   "cell_type": "code",
   "execution_count": 18,
   "id": "8e845d71-8ec7-4e13-9adc-31c7a52370e4",
   "metadata": {},
   "outputs": [
    {
     "name": "stdin",
     "output_type": "stream",
     "text": [
      "Enter Your City Name -  Jaipur\n"
     ]
    },
    {
     "name": "stdout",
     "output_type": "stream",
     "text": [
      "Jal Mahal\n"
     ]
    }
   ],
   "source": [
    "#3. Accept any city from the user and display monument of that city.\n",
    "\n",
    "city = input(\"Enter Your City Name - \")\n",
    "if city == 'Delhi':\n",
    "    print(\"Monument - Red Fort\")\n",
    "elif city == 'Agra':\n",
    "    print(\"Monument - Taj Mahal\")\n",
    "elif city == 'Jaipur':\n",
    "    print(\"Jal Mahal\")\n",
    "\n"
   ]
  },
  {
   "cell_type": "code",
   "execution_count": 1,
   "id": "b4e381a0-7106-4a49-b756-459a6ae4e6b9",
   "metadata": {},
   "outputs": [
    {
     "name": "stdin",
     "output_type": "stream",
     "text": [
      "Enter a Number -  9\n"
     ]
    },
    {
     "name": "stdout",
     "output_type": "stream",
     "text": [
      "3\n"
     ]
    }
   ],
   "source": [
    "\n",
    "# 4. Check how many times a given number can be divided by 3 before it is less than or equal to 10.\n",
    "\n",
    "num = int(input(\"Enter a Number - \"))\n",
    "count = 0\n",
    "for i in range(num+1):\n",
    "    if i>0:\n",
    "        if i%3 == 0:\n",
    "            count += 1\n",
    "        \n",
    "print(count)"
   ]
  },
  {
   "cell_type": "code",
   "execution_count": null,
   "id": "1c037322-4a77-4c1b-b2fc-a4f056b8d839",
   "metadata": {},
   "outputs": [],
   "source": [
    "# 5 Why and When to Use while Loop in Python give a detailed description with example\n",
    "A While loop in Python allows a part of the code to be executed repeatedly as long as a given condition is true. The While loop in Python is also called a pre-tested loop. It is typically used when the number of iterations is not known."
   ]
  },
  {
   "cell_type": "code",
   "execution_count": 2,
   "id": "64a06c35-83ef-41ca-88f7-023b0e65f618",
   "metadata": {},
   "outputs": [
    {
     "name": "stdout",
     "output_type": "stream",
     "text": [
      "0 1 2 3 \n",
      "0 2 4 6 \n",
      "0 3 6 9 \n",
      "0 4 8 12 \n"
     ]
    }
   ],
   "source": [
    "# 6 Use nested while loop to print 3 different pattern. in py\n",
    "i = 1\n",
    "while i <= 4 :\n",
    "    j = 0\n",
    "    while  j <= 3 :\n",
    "        print(i*j, end=\" \")\n",
    "        j += 1\n",
    "    print(end=\"\\n\")\n",
    "    i += 1"
   ]
  },
  {
   "cell_type": "code",
   "execution_count": 3,
   "id": "ab16c291-8166-4d7a-9890-f094cb71c05b",
   "metadata": {},
   "outputs": [
    {
     "name": "stdout",
     "output_type": "stream",
     "text": [
      "10\n",
      "9\n",
      "8\n",
      "7\n",
      "6\n",
      "5\n",
      "4\n",
      "3\n",
      "2\n",
      "1\n",
      "0\n"
     ]
    }
   ],
   "source": [
    "# 7. Reverse a while loop to display numbers from 10 to 1. \n",
    "# 8. Reverse a while loop to display numbers from 10 to 1. \n",
    "n = 10\n",
    "while n >=0:\n",
    "    print(n)\n",
    "    n = n-1"
   ]
  },
  {
   "cell_type": "code",
   "execution_count": null,
   "id": "2b1a18cc-6446-4eb2-8ace-d80b8d6b269b",
   "metadata": {},
   "outputs": [],
   "source": []
  }
 ],
 "metadata": {
  "kernelspec": {
   "display_name": "Python 3 (ipykernel)",
   "language": "python",
   "name": "python3"
  },
  "language_info": {
   "codemirror_mode": {
    "name": "ipython",
    "version": 3
   },
   "file_extension": ".py",
   "mimetype": "text/x-python",
   "name": "python",
   "nbconvert_exporter": "python",
   "pygments_lexer": "ipython3",
   "version": "3.10.8"
  }
 },
 "nbformat": 4,
 "nbformat_minor": 5
}
